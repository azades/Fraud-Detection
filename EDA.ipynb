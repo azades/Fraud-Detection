{
 "cells": [
  {
   "cell_type": "markdown",
   "metadata": {},
   "source": [
    "**Initial Data Exploration**"
   ]
  },
  {
   "cell_type": "code",
   "execution_count": 1,
   "metadata": {},
   "outputs": [],
   "source": [
    "# Import libraries\n",
    "import pandas as pd\n",
    "import numpy as np\n",
    "import seaborn as sns\n",
    "import matplotlib.pyplot as plt\n",
    "import sklearn\n",
    "from sklearn.preprocessing import LabelEncoder"
   ]
  },
  {
   "cell_type": "code",
   "execution_count": 2,
   "metadata": {},
   "outputs": [],
   "source": [
    "# Loading the dataset into pandas dataframe\n",
    "df = pd.read_csv(\"./PS_20174392719_1491204439457_log.csv\")"
   ]
  },
  {
   "cell_type": "code",
   "execution_count": 3,
   "metadata": {},
   "outputs": [
    {
     "data": {
      "text/html": [
       "<div>\n",
       "<style scoped>\n",
       "    .dataframe tbody tr th:only-of-type {\n",
       "        vertical-align: middle;\n",
       "    }\n",
       "\n",
       "    .dataframe tbody tr th {\n",
       "        vertical-align: top;\n",
       "    }\n",
       "\n",
       "    .dataframe thead th {\n",
       "        text-align: right;\n",
       "    }\n",
       "</style>\n",
       "<table border=\"1\" class=\"dataframe\">\n",
       "  <thead>\n",
       "    <tr style=\"text-align: right;\">\n",
       "      <th></th>\n",
       "      <th>step</th>\n",
       "      <th>type</th>\n",
       "      <th>amount</th>\n",
       "      <th>nameOrig</th>\n",
       "      <th>oldbalanceOrg</th>\n",
       "      <th>newbalanceOrig</th>\n",
       "      <th>nameDest</th>\n",
       "      <th>oldbalanceDest</th>\n",
       "      <th>newbalanceDest</th>\n",
       "      <th>isFraud</th>\n",
       "      <th>isFlaggedFraud</th>\n",
       "    </tr>\n",
       "  </thead>\n",
       "  <tbody>\n",
       "    <tr>\n",
       "      <th>0</th>\n",
       "      <td>1</td>\n",
       "      <td>PAYMENT</td>\n",
       "      <td>9839.64</td>\n",
       "      <td>C1231006815</td>\n",
       "      <td>170136.00</td>\n",
       "      <td>160296.36</td>\n",
       "      <td>M1979787155</td>\n",
       "      <td>0.0</td>\n",
       "      <td>0.00</td>\n",
       "      <td>0</td>\n",
       "      <td>0</td>\n",
       "    </tr>\n",
       "    <tr>\n",
       "      <th>1</th>\n",
       "      <td>1</td>\n",
       "      <td>PAYMENT</td>\n",
       "      <td>1864.28</td>\n",
       "      <td>C1666544295</td>\n",
       "      <td>21249.00</td>\n",
       "      <td>19384.72</td>\n",
       "      <td>M2044282225</td>\n",
       "      <td>0.0</td>\n",
       "      <td>0.00</td>\n",
       "      <td>0</td>\n",
       "      <td>0</td>\n",
       "    </tr>\n",
       "    <tr>\n",
       "      <th>2</th>\n",
       "      <td>1</td>\n",
       "      <td>TRANSFER</td>\n",
       "      <td>181.00</td>\n",
       "      <td>C1305486145</td>\n",
       "      <td>181.00</td>\n",
       "      <td>0.00</td>\n",
       "      <td>C553264065</td>\n",
       "      <td>0.0</td>\n",
       "      <td>0.00</td>\n",
       "      <td>1</td>\n",
       "      <td>0</td>\n",
       "    </tr>\n",
       "    <tr>\n",
       "      <th>3</th>\n",
       "      <td>1</td>\n",
       "      <td>CASH_OUT</td>\n",
       "      <td>181.00</td>\n",
       "      <td>C840083671</td>\n",
       "      <td>181.00</td>\n",
       "      <td>0.00</td>\n",
       "      <td>C38997010</td>\n",
       "      <td>21182.0</td>\n",
       "      <td>0.00</td>\n",
       "      <td>1</td>\n",
       "      <td>0</td>\n",
       "    </tr>\n",
       "    <tr>\n",
       "      <th>4</th>\n",
       "      <td>1</td>\n",
       "      <td>PAYMENT</td>\n",
       "      <td>11668.14</td>\n",
       "      <td>C2048537720</td>\n",
       "      <td>41554.00</td>\n",
       "      <td>29885.86</td>\n",
       "      <td>M1230701703</td>\n",
       "      <td>0.0</td>\n",
       "      <td>0.00</td>\n",
       "      <td>0</td>\n",
       "      <td>0</td>\n",
       "    </tr>\n",
       "    <tr>\n",
       "      <th>5</th>\n",
       "      <td>1</td>\n",
       "      <td>PAYMENT</td>\n",
       "      <td>7817.71</td>\n",
       "      <td>C90045638</td>\n",
       "      <td>53860.00</td>\n",
       "      <td>46042.29</td>\n",
       "      <td>M573487274</td>\n",
       "      <td>0.0</td>\n",
       "      <td>0.00</td>\n",
       "      <td>0</td>\n",
       "      <td>0</td>\n",
       "    </tr>\n",
       "    <tr>\n",
       "      <th>6</th>\n",
       "      <td>1</td>\n",
       "      <td>PAYMENT</td>\n",
       "      <td>7107.77</td>\n",
       "      <td>C154988899</td>\n",
       "      <td>183195.00</td>\n",
       "      <td>176087.23</td>\n",
       "      <td>M408069119</td>\n",
       "      <td>0.0</td>\n",
       "      <td>0.00</td>\n",
       "      <td>0</td>\n",
       "      <td>0</td>\n",
       "    </tr>\n",
       "    <tr>\n",
       "      <th>7</th>\n",
       "      <td>1</td>\n",
       "      <td>PAYMENT</td>\n",
       "      <td>7861.64</td>\n",
       "      <td>C1912850431</td>\n",
       "      <td>176087.23</td>\n",
       "      <td>168225.59</td>\n",
       "      <td>M633326333</td>\n",
       "      <td>0.0</td>\n",
       "      <td>0.00</td>\n",
       "      <td>0</td>\n",
       "      <td>0</td>\n",
       "    </tr>\n",
       "    <tr>\n",
       "      <th>8</th>\n",
       "      <td>1</td>\n",
       "      <td>PAYMENT</td>\n",
       "      <td>4024.36</td>\n",
       "      <td>C1265012928</td>\n",
       "      <td>2671.00</td>\n",
       "      <td>0.00</td>\n",
       "      <td>M1176932104</td>\n",
       "      <td>0.0</td>\n",
       "      <td>0.00</td>\n",
       "      <td>0</td>\n",
       "      <td>0</td>\n",
       "    </tr>\n",
       "    <tr>\n",
       "      <th>9</th>\n",
       "      <td>1</td>\n",
       "      <td>DEBIT</td>\n",
       "      <td>5337.77</td>\n",
       "      <td>C712410124</td>\n",
       "      <td>41720.00</td>\n",
       "      <td>36382.23</td>\n",
       "      <td>C195600860</td>\n",
       "      <td>41898.0</td>\n",
       "      <td>40348.79</td>\n",
       "      <td>0</td>\n",
       "      <td>0</td>\n",
       "    </tr>\n",
       "  </tbody>\n",
       "</table>\n",
       "</div>"
      ],
      "text/plain": [
       "   step      type    amount     nameOrig  oldbalanceOrg  newbalanceOrig  \\\n",
       "0     1   PAYMENT   9839.64  C1231006815      170136.00       160296.36   \n",
       "1     1   PAYMENT   1864.28  C1666544295       21249.00        19384.72   \n",
       "2     1  TRANSFER    181.00  C1305486145         181.00            0.00   \n",
       "3     1  CASH_OUT    181.00   C840083671         181.00            0.00   \n",
       "4     1   PAYMENT  11668.14  C2048537720       41554.00        29885.86   \n",
       "5     1   PAYMENT   7817.71    C90045638       53860.00        46042.29   \n",
       "6     1   PAYMENT   7107.77   C154988899      183195.00       176087.23   \n",
       "7     1   PAYMENT   7861.64  C1912850431      176087.23       168225.59   \n",
       "8     1   PAYMENT   4024.36  C1265012928        2671.00            0.00   \n",
       "9     1     DEBIT   5337.77   C712410124       41720.00        36382.23   \n",
       "\n",
       "      nameDest  oldbalanceDest  newbalanceDest  isFraud  isFlaggedFraud  \n",
       "0  M1979787155             0.0            0.00        0               0  \n",
       "1  M2044282225             0.0            0.00        0               0  \n",
       "2   C553264065             0.0            0.00        1               0  \n",
       "3    C38997010         21182.0            0.00        1               0  \n",
       "4  M1230701703             0.0            0.00        0               0  \n",
       "5   M573487274             0.0            0.00        0               0  \n",
       "6   M408069119             0.0            0.00        0               0  \n",
       "7   M633326333             0.0            0.00        0               0  \n",
       "8  M1176932104             0.0            0.00        0               0  \n",
       "9   C195600860         41898.0        40348.79        0               0  "
      ]
     },
     "execution_count": 3,
     "metadata": {},
     "output_type": "execute_result"
    }
   ],
   "source": [
    "# Display the first 10 rows of the dataframe\n",
    "df.head(10)"
   ]
  },
  {
   "cell_type": "code",
   "execution_count": 4,
   "metadata": {},
   "outputs": [
    {
     "data": {
      "text/plain": [
       "(6362620, 11)"
      ]
     },
     "execution_count": 4,
     "metadata": {},
     "output_type": "execute_result"
    }
   ],
   "source": [
    "# Display the shape of the dataframe\n",
    "df.shape"
   ]
  },
  {
   "cell_type": "code",
   "execution_count": 5,
   "metadata": {},
   "outputs": [
    {
     "name": "stdout",
     "output_type": "stream",
     "text": [
      "<class 'pandas.core.frame.DataFrame'>\n",
      "RangeIndex: 6362620 entries, 0 to 6362619\n",
      "Data columns (total 11 columns):\n",
      " #   Column          Dtype  \n",
      "---  ------          -----  \n",
      " 0   step            int64  \n",
      " 1   type            object \n",
      " 2   amount          float64\n",
      " 3   nameOrig        object \n",
      " 4   oldbalanceOrg   float64\n",
      " 5   newbalanceOrig  float64\n",
      " 6   nameDest        object \n",
      " 7   oldbalanceDest  float64\n",
      " 8   newbalanceDest  float64\n",
      " 9   isFraud         int64  \n",
      " 10  isFlaggedFraud  int64  \n",
      "dtypes: float64(5), int64(3), object(3)\n",
      "memory usage: 534.0+ MB\n"
     ]
    }
   ],
   "source": [
    "# Display data types of each column\n",
    "df.info()"
   ]
  },
  {
   "cell_type": "code",
   "execution_count": 6,
   "metadata": {},
   "outputs": [
    {
     "data": {
      "text/html": [
       "<div>\n",
       "<style scoped>\n",
       "    .dataframe tbody tr th:only-of-type {\n",
       "        vertical-align: middle;\n",
       "    }\n",
       "\n",
       "    .dataframe tbody tr th {\n",
       "        vertical-align: top;\n",
       "    }\n",
       "\n",
       "    .dataframe thead th {\n",
       "        text-align: right;\n",
       "    }\n",
       "</style>\n",
       "<table border=\"1\" class=\"dataframe\">\n",
       "  <thead>\n",
       "    <tr style=\"text-align: right;\">\n",
       "      <th></th>\n",
       "      <th>count</th>\n",
       "      <th>mean</th>\n",
       "      <th>std</th>\n",
       "      <th>min</th>\n",
       "      <th>25%</th>\n",
       "      <th>50%</th>\n",
       "      <th>75%</th>\n",
       "      <th>max</th>\n",
       "    </tr>\n",
       "  </thead>\n",
       "  <tbody>\n",
       "    <tr>\n",
       "      <th>step</th>\n",
       "      <td>6362620.0</td>\n",
       "      <td>2.433972e+02</td>\n",
       "      <td>1.423320e+02</td>\n",
       "      <td>1.0</td>\n",
       "      <td>156.00</td>\n",
       "      <td>239.000</td>\n",
       "      <td>3.350000e+02</td>\n",
       "      <td>7.430000e+02</td>\n",
       "    </tr>\n",
       "    <tr>\n",
       "      <th>amount</th>\n",
       "      <td>6362620.0</td>\n",
       "      <td>1.798619e+05</td>\n",
       "      <td>6.038582e+05</td>\n",
       "      <td>0.0</td>\n",
       "      <td>13389.57</td>\n",
       "      <td>74871.940</td>\n",
       "      <td>2.087215e+05</td>\n",
       "      <td>9.244552e+07</td>\n",
       "    </tr>\n",
       "    <tr>\n",
       "      <th>oldbalanceOrg</th>\n",
       "      <td>6362620.0</td>\n",
       "      <td>8.338831e+05</td>\n",
       "      <td>2.888243e+06</td>\n",
       "      <td>0.0</td>\n",
       "      <td>0.00</td>\n",
       "      <td>14208.000</td>\n",
       "      <td>1.073152e+05</td>\n",
       "      <td>5.958504e+07</td>\n",
       "    </tr>\n",
       "    <tr>\n",
       "      <th>newbalanceOrig</th>\n",
       "      <td>6362620.0</td>\n",
       "      <td>8.551137e+05</td>\n",
       "      <td>2.924049e+06</td>\n",
       "      <td>0.0</td>\n",
       "      <td>0.00</td>\n",
       "      <td>0.000</td>\n",
       "      <td>1.442584e+05</td>\n",
       "      <td>4.958504e+07</td>\n",
       "    </tr>\n",
       "    <tr>\n",
       "      <th>oldbalanceDest</th>\n",
       "      <td>6362620.0</td>\n",
       "      <td>1.100702e+06</td>\n",
       "      <td>3.399180e+06</td>\n",
       "      <td>0.0</td>\n",
       "      <td>0.00</td>\n",
       "      <td>132705.665</td>\n",
       "      <td>9.430367e+05</td>\n",
       "      <td>3.560159e+08</td>\n",
       "    </tr>\n",
       "    <tr>\n",
       "      <th>newbalanceDest</th>\n",
       "      <td>6362620.0</td>\n",
       "      <td>1.224996e+06</td>\n",
       "      <td>3.674129e+06</td>\n",
       "      <td>0.0</td>\n",
       "      <td>0.00</td>\n",
       "      <td>214661.440</td>\n",
       "      <td>1.111909e+06</td>\n",
       "      <td>3.561793e+08</td>\n",
       "    </tr>\n",
       "    <tr>\n",
       "      <th>isFraud</th>\n",
       "      <td>6362620.0</td>\n",
       "      <td>1.290820e-03</td>\n",
       "      <td>3.590480e-02</td>\n",
       "      <td>0.0</td>\n",
       "      <td>0.00</td>\n",
       "      <td>0.000</td>\n",
       "      <td>0.000000e+00</td>\n",
       "      <td>1.000000e+00</td>\n",
       "    </tr>\n",
       "    <tr>\n",
       "      <th>isFlaggedFraud</th>\n",
       "      <td>6362620.0</td>\n",
       "      <td>2.514687e-06</td>\n",
       "      <td>1.585775e-03</td>\n",
       "      <td>0.0</td>\n",
       "      <td>0.00</td>\n",
       "      <td>0.000</td>\n",
       "      <td>0.000000e+00</td>\n",
       "      <td>1.000000e+00</td>\n",
       "    </tr>\n",
       "  </tbody>\n",
       "</table>\n",
       "</div>"
      ],
      "text/plain": [
       "                    count          mean           std  min       25%  \\\n",
       "step            6362620.0  2.433972e+02  1.423320e+02  1.0    156.00   \n",
       "amount          6362620.0  1.798619e+05  6.038582e+05  0.0  13389.57   \n",
       "oldbalanceOrg   6362620.0  8.338831e+05  2.888243e+06  0.0      0.00   \n",
       "newbalanceOrig  6362620.0  8.551137e+05  2.924049e+06  0.0      0.00   \n",
       "oldbalanceDest  6362620.0  1.100702e+06  3.399180e+06  0.0      0.00   \n",
       "newbalanceDest  6362620.0  1.224996e+06  3.674129e+06  0.0      0.00   \n",
       "isFraud         6362620.0  1.290820e-03  3.590480e-02  0.0      0.00   \n",
       "isFlaggedFraud  6362620.0  2.514687e-06  1.585775e-03  0.0      0.00   \n",
       "\n",
       "                       50%           75%           max  \n",
       "step               239.000  3.350000e+02  7.430000e+02  \n",
       "amount           74871.940  2.087215e+05  9.244552e+07  \n",
       "oldbalanceOrg    14208.000  1.073152e+05  5.958504e+07  \n",
       "newbalanceOrig       0.000  1.442584e+05  4.958504e+07  \n",
       "oldbalanceDest  132705.665  9.430367e+05  3.560159e+08  \n",
       "newbalanceDest  214661.440  1.111909e+06  3.561793e+08  \n",
       "isFraud              0.000  0.000000e+00  1.000000e+00  \n",
       "isFlaggedFraud       0.000  0.000000e+00  1.000000e+00  "
      ]
     },
     "execution_count": 6,
     "metadata": {},
     "output_type": "execute_result"
    }
   ],
   "source": [
    "# Summary statistics for numerical features\n",
    "df.describe().T"
   ]
  },
  {
   "cell_type": "code",
   "execution_count": 7,
   "metadata": {},
   "outputs": [
    {
     "data": {
      "text/plain": [
       "Index(['step', 'type', 'amount', 'nameOrig', 'oldbalanceOrg', 'newbalanceOrig',\n",
       "       'nameDest', 'oldbalanceDest', 'newbalanceDest', 'isFraud',\n",
       "       'isFlaggedFraud'],\n",
       "      dtype='object')"
      ]
     },
     "execution_count": 7,
     "metadata": {},
     "output_type": "execute_result"
    }
   ],
   "source": [
    "# Display the column names\n",
    "df.columns"
   ]
  },
  {
   "cell_type": "code",
   "execution_count": 8,
   "metadata": {},
   "outputs": [
    {
     "data": {
      "text/plain": [
       "step              0\n",
       "type              0\n",
       "amount            0\n",
       "nameOrig          0\n",
       "oldbalanceOrg     0\n",
       "newbalanceOrig    0\n",
       "nameDest          0\n",
       "oldbalanceDest    0\n",
       "newbalanceDest    0\n",
       "isFraud           0\n",
       "isFlaggedFraud    0\n",
       "dtype: int64"
      ]
     },
     "execution_count": 8,
     "metadata": {},
     "output_type": "execute_result"
    }
   ],
   "source": [
    "# Check for missing values\n",
    "df.isnull().sum()"
   ]
  },
  {
   "cell_type": "markdown",
   "metadata": {},
   "source": [
    "**Univariate Analysis - Numerical Features**"
   ]
  },
  {
   "cell_type": "markdown",
   "metadata": {},
   "source": [
    "Plot Histograms for Numerical Features"
   ]
  },
  {
   "cell_type": "code",
   "execution_count": null,
   "metadata": {},
   "outputs": [],
   "source": [
    "# List of numerical columns\n",
    "num_columns = ['amount', 'oldbalanceOrg', 'newbalanceOrig', 'oldbalanceDest', 'newbalanceDest']\n",
    "\n",
    "# Calculate the number of rows needed for subplots (2 plots per row)\n",
    "num_rows = (len(num_columns) + 1) // 2\n",
    "\n",
    "# Create a figure with subplots\n",
    "plt.figure(figsize=(14, num_rows * 5))  \n",
    "\n",
    "# Loop through the list of numerical columns to create subplots\n",
    "for index, col in enumerate(num_columns):\n",
    "    plt.subplot(num_rows, 2, index + 1)  # Create subplot for each column\n",
    "    sns.histplot(df[col], kde=False).set_yscale('log')\n",
    "    plt.title(f'Histogram of {col}')\n",
    "    plt.xlabel(col)\n",
    "    plt.ylabel('Count')\n",
    "\n",
    "plt.tight_layout()  # Adjust subplots to fit into the figure area nicely\n",
    "plt.show()"
   ]
  },
  {
   "cell_type": "code",
   "execution_count": null,
   "metadata": {},
   "outputs": [],
   "source": [
    "# num_columns = ['amount', 'oldbalanceOrg', 'newbalanceOrig', 'oldbalanceDest', 'newbalanceDest']\n",
    "\n",
    "# Set the aesthetic style of the plots\n",
    "sns.set_theme(style=\"darkgrid\")\n",
    "\n",
    "# Create a figure with subplots in a 3x2 layout\n",
    "fig, axs = plt.subplots(3, 2, figsize=(12, 15))  # Increased figure size for better visibility\n",
    "\n",
    "# Plot histograms with Kernel Density Estimate (KDE) and logarithmic y-scale\n",
    "sns.histplot(df['amount'], color=\"skyblue\", ax=axs[0, 0], log_scale=(False, True))\n",
    "sns.histplot(df['oldbalanceOrg'], color=\"olive\", ax=axs[0, 1], log_scale=(False, True))\n",
    "sns.histplot(df['newbalanceOrig'], color=\"gold\", ax=axs[1, 0], log_scale=(False, True))\n",
    "sns.histplot(df['oldbalanceDest'], color=\"teal\", ax=axs[1, 1], log_scale=(False, True))\n",
    "sns.histplot(df['newbalanceDest'], color=\"purple\", ax=axs[2, 0], log_scale=(False, True))\n",
    "# Adjust layout to prevent overlap and hide empty subplot\n",
    "plt.tight_layout()\n",
    "axs[2, 1].axis('off')  # Turn off the unused subplot\n",
    "\n",
    "# Display the plots\n",
    "plt.show()"
   ]
  },
  {
   "cell_type": "code",
   "execution_count": null,
   "metadata": {},
   "outputs": [],
   "source": [
    "# Count plot for 'type' of transaction\n",
    "plt.figure(figsize=(8, 4))\n",
    "sns.countplot(data=df, x='type')\n",
    "plt.title('Distribution of Transaction Types')\n",
    "plt.show()"
   ]
  },
  {
   "cell_type": "code",
   "execution_count": null,
   "metadata": {},
   "outputs": [],
   "source": [
    "# Bar plot to see the relationship between 'type' and 'isFraud'\n",
    "plt.figure(figsize=(8, 4))\n",
    "sns.countplot(data=df, x='type', hue='isFraud')\n",
    "plt.title('Transaction Type by Fraud Status')\n",
    "plt.show()"
   ]
  },
  {
   "cell_type": "code",
   "execution_count": null,
   "metadata": {},
   "outputs": [],
   "source": [
    "# Transaction Type by Fraud Status\n",
    "import matplotlib.pyplot as plt\n",
    "# Calculate the counts\n",
    "count_data = df.groupby(['type', 'isFraud']).size().reset_index(name='counts')\n",
    "# Create the plot with seaborn's barplot\n",
    "plt.figure(figsize=(8, 4))\n",
    "barplot = sns.barplot(data=count_data, x='type', y='counts', hue='isFraud').set_yscale('log')\n",
    "# Set the title\n",
    "plt.title('Transaction Type by Fraud Status')\n",
    "# Set the y-axis to a log scale\n",
    "#plt.yscale('log')\n",
    "plt.ylim(1e0, 1e7)\n",
    "\n",
    "plt.show()"
   ]
  },
  {
   "cell_type": "code",
   "execution_count": null,
   "metadata": {},
   "outputs": [],
   "source": [
    "plt.figure(figsize=(8, 4))\n",
    "sns.histplot(data=df, x='amount', hue = 'isFraud', kde=True)"
   ]
  },
  {
   "cell_type": "code",
   "execution_count": null,
   "metadata": {},
   "outputs": [],
   "source": [
    "df_filtered = df[(df['amount'] > -1) & (df['amount'] < 100000)]"
   ]
  },
  {
   "cell_type": "code",
   "execution_count": null,
   "metadata": {},
   "outputs": [],
   "source": [
    "sns.histplot(data=df_filtered, x='amount', hue = 'isFraud', kde=True).set_yscale('log')"
   ]
  },
  {
   "cell_type": "code",
   "execution_count": null,
   "metadata": {},
   "outputs": [],
   "source": []
  },
  {
   "cell_type": "code",
   "execution_count": null,
   "metadata": {},
   "outputs": [],
   "source": [
    "sns.histplot(df.loc[df['amount']>1 ,'amount'], color=\"skyblue\", log_scale=(False, True))"
   ]
  },
  {
   "cell_type": "code",
   "execution_count": null,
   "metadata": {},
   "outputs": [],
   "source": [
    "sns.histplot(data=df, x = df.loc[df['oldbalanceOrg']>1,'oldbalanceOrg'], hue='isFraud',color=\"skyblue\", log_scale=(False, True))"
   ]
  },
  {
   "cell_type": "code",
   "execution_count": null,
   "metadata": {},
   "outputs": [],
   "source": [
    "# Set the aesthetic style of the plots\n",
    "sns.set_theme(style=\"darkgrid\")\n",
    "# Plot histograms with Kernel Density Estimate (KDE) and logarithmic y-scale\n",
    "plt.figure(figsize=(10, 6))  # Adjust the size for better visibility\n",
    "sns.histplot(df['amount'], color=\"skyblue\", log_scale=(False, True), kde=True)\n",
    "\n",
    "# Setting the title and labels for clarity\n",
    "plt.title('Histogram with KDE of Transaction Amounts')\n",
    "plt.xlabel('Transaction Amount')\n",
    "plt.ylabel('Log-Scaled Density')\n",
    "plt.show()"
   ]
  },
  {
   "cell_type": "markdown",
   "metadata": {},
   "source": [
    "Count Plots for Categorical Features"
   ]
  },
  {
   "cell_type": "code",
   "execution_count": null,
   "metadata": {},
   "outputs": [],
   "source": [
    "# List of categorical columns\n",
    "cat_columns = ['type']\n",
    "\n",
    "plt.figure(figsize=(12, 8))\n",
    "for i, col in enumerate(cat_columns, 1):\n",
    "    plt.subplot(2, 2, i)\n",
    "    sns.countplot(data = df, x=df[col], hue='isFraud').set_yscale('log')\n",
    "    #plt.yscale('log')\n",
    "    plt.title(f'Count Plot of {col}')\n",
    "plt.tight_layout()\n",
    "plt.show()"
   ]
  },
  {
   "cell_type": "markdown",
   "metadata": {},
   "source": [
    "feature Engineering - new features\n",
    "- isNew: if oldbalanceOrg == 0\n",
    "- isClosed: newbalanceOrg == 0\n",
    "- isSeen: if uniqe count of nameDest > 1\n",
    "- More columns????????????\n",
    "df['nameDest'].nunique()\n",
    "df['nameOrig'].nunique()\n",
    "df['calAmount'] =   df['oldbalanceOrg'] - df['newbalanceOrig']\n",
    "df.loc[:,['calAmount', 'amount']].head()"
   ]
  },
  {
   "cell_type": "markdown",
   "metadata": {},
   "source": [
    "Label Encoding"
   ]
  },
  {
   "cell_type": "code",
   "execution_count": null,
   "metadata": {},
   "outputs": [],
   "source": [
    "print(df.dtypes)"
   ]
  },
  {
   "cell_type": "code",
   "execution_count": null,
   "metadata": {},
   "outputs": [],
   "source": [
    "# Checking for non-numeric entries\n",
    "for col in df.columns:\n",
    "    if df[col].dtype == 'object':\n",
    "        # Attempt to convert to numeric, set errors='coerce' to handle exceptions\n",
    "        df[col] = pd.to_numeric(df[col], errors='coerce')\n",
    "\n",
    "# Handling or investigating remaining missing values after coercion\n",
    "print(df.isnull().sum())"
   ]
  },
  {
   "cell_type": "code",
   "execution_count": null,
   "metadata": {},
   "outputs": [],
   "source": [
    "# Convert Categorical Data to Numeric using Label Encoding\n",
    "label_encoder = LabelEncoder()\n",
    "df['type'] = label_encoder.fit_transform(df['type'])"
   ]
  },
  {
   "cell_type": "code",
   "execution_count": null,
   "metadata": {},
   "outputs": [],
   "source": [
    "df = pd.get_dummies(df, columns=['type'], prefix='type')"
   ]
  },
  {
   "cell_type": "code",
   "execution_count": null,
   "metadata": {},
   "outputs": [],
   "source": [
    "df.head()"
   ]
  },
  {
   "cell_type": "code",
   "execution_count": null,
   "metadata": {},
   "outputs": [],
   "source": [
    "df.corr()"
   ]
  },
  {
   "cell_type": "code",
   "execution_count": null,
   "metadata": {},
   "outputs": [],
   "source": [
    "correlation_matrix = df.corr()"
   ]
  },
  {
   "cell_type": "code",
   "execution_count": null,
   "metadata": {},
   "outputs": [],
   "source": [
    "plt.figure(figsize=(10, 8))  # Adjust the size of the figure as necessary\n",
    "sns.heatmap(correlation_matrix, annot=True, fmt=\".2f\", cmap='coolwarm', cbar=True)\n",
    "plt.title('Correlation Matrix')\n",
    "plt.show()"
   ]
  },
  {
   "cell_type": "markdown",
   "metadata": {},
   "source": [
    "Outliers"
   ]
  },
  {
   "cell_type": "code",
   "execution_count": null,
   "metadata": {},
   "outputs": [],
   "source": [
    "# Visualizing outliers with boxplots\n",
    "plt.figure(figsize=(10, 6))\n",
    "sns.boxplot(data=df[['amount', 'oldbalanceOrg', 'newbalanceOrig', 'oldbalanceDest', 'newbalanceDest']])\n",
    "plt.title('Boxplot for Monetary Variables')\n",
    "plt.xticks(rotation=45)\n",
    "plt.show()"
   ]
  },
  {
   "cell_type": "code",
   "execution_count": null,
   "metadata": {},
   "outputs": [],
   "source": [
    "# Scatter plot for examining relationships and outliers\n",
    "plt.figure(figsize=(10, 6))\n",
    "sns.scatterplot(x='oldbalanceOrg', y='amount', hue='isFraud', data=df)\n",
    "plt.title('Scatter Plot of Amount vs Old Balance Org')\n",
    "plt.show()"
   ]
  },
  {
   "cell_type": "markdown",
   "metadata": {},
   "source": [
    "Creating velocity features based on past transactional behavior "
   ]
  },
  {
   "cell_type": "code",
   "execution_count": null,
   "metadata": {},
   "outputs": [],
   "source": [
    "df['step'].value_counts()"
   ]
  },
  {
   "cell_type": "code",
   "execution_count": null,
   "metadata": {},
   "outputs": [],
   "source": [
    "sns.histplot(data=df, x='step', bins=50)"
   ]
  },
  {
   "cell_type": "code",
   "execution_count": null,
   "metadata": {},
   "outputs": [],
   "source": [
    "df_100 = df.sample(n=100, random_state=42)\n",
    "df_100"
   ]
  },
  {
   "cell_type": "code",
   "execution_count": null,
   "metadata": {},
   "outputs": [],
   "source": [
    "\n",
    "# Convert 'step' to datetime and set it as the DataFrame's index\n",
    "df['date'] = pd.to_datetime(df['step'].apply(lambda x: pd.Timestamp('2020-01-01') + pd.Timedelta(hours=x)))\n",
    "df.set_index('date', inplace=True)"
   ]
  },
  {
   "cell_type": "code",
   "execution_count": null,
   "metadata": {},
   "outputs": [],
   "source": [
    "df.sample(10)"
   ]
  },
  {
   "cell_type": "code",
   "execution_count": null,
   "metadata": {},
   "outputs": [],
   "source": [
    "# Plotting some numeric column 'amount' over time\n",
    "df['amount'].plot()\n",
    "plt.title('Transaction Amount Over Time')\n",
    "plt.ylabel('Amount')\n",
    "plt.show()"
   ]
  },
  {
   "cell_type": "markdown",
   "metadata": {},
   "source": [
    "Rolling average of the transaction amounts over the past 7 days"
   ]
  },
  {
   "cell_type": "code",
   "execution_count": null,
   "metadata": {},
   "outputs": [],
   "source": [
    "# Rolling average of the transaction amounts over the past 7 days\n",
    "df['rolling_avg_7d'] = df['amount'].rolling(window='7D').mean()"
   ]
  },
  {
   "cell_type": "code",
   "execution_count": null,
   "metadata": {},
   "outputs": [],
   "source": [
    "df['rolling_avg_1d'] = df['amount'].rolling(window='1D').mean()"
   ]
  },
  {
   "cell_type": "code",
   "execution_count": null,
   "metadata": {},
   "outputs": [],
   "source": [
    "# Print the first few rows to see the new column with the 7-day rolling averages\n",
    "print(df[['amount', 'rolling_avg_7d']].head(10))"
   ]
  },
  {
   "cell_type": "code",
   "execution_count": null,
   "metadata": {},
   "outputs": [],
   "source": [
    "# Plot the original amounts and the rolling averages\n",
    "plt.figure(figsize=(12, 6))\n",
    "plt.plot(df.index, df['rolling_avg_1d'], label='1-Day Rolling Average', color='blue')\n",
    "plt.plot(df.index, df['rolling_avg_7d'], label='7-Day Rolling Average', color='red')\n",
    "plt.title('7-Day Rolling Average of Transaction Amounts')\n",
    "plt.xlabel('Date')\n",
    "plt.ylabel('Amount')\n",
    "plt.legend()\n",
    "plt.show()"
   ]
  },
  {
   "cell_type": "code",
   "execution_count": null,
   "metadata": {},
   "outputs": [],
   "source": [
    "# Plot the original amounts and the rolling averages\n",
    "plt.figure(figsize=(12, 6))\n",
    "plt.plot(df.index, df['rolling_avg_1d'], label='1-Day Rolling Average', color='blue')\n",
    "plt.plot(df.index, df['rolling_avg_7d'], label='7-Day Rolling Average', color='red')\n",
    "plt.title('7-Day Rolling Average of Transaction Amounts')\n",
    "plt.xlabel('Date')\n",
    "plt.ylabel('Amount')\n",
    "plt.legend()\n",
    "plt.show()"
   ]
  },
  {
   "cell_type": "markdown",
   "metadata": {},
   "source": [
    "Rolling count of transactions in the past 7 days"
   ]
  },
  {
   "cell_type": "code",
   "execution_count": null,
   "metadata": {},
   "outputs": [],
   "source": [
    "df['rolling_tx_count_7d'] = df['amount'].rolling(window='7D').count()"
   ]
  },
  {
   "cell_type": "code",
   "execution_count": null,
   "metadata": {},
   "outputs": [],
   "source": [
    "# Print the first few rows to check the new column with the 7-day rolling transaction count\n",
    "print(df[['amount', 'rolling_tx_count_7d']].head(10))"
   ]
  },
  {
   "cell_type": "code",
   "execution_count": null,
   "metadata": {},
   "outputs": [],
   "source": [
    "# Plot the rolling count of transactions\n",
    "plt.figure(figsize=(12, 6))\n",
    "plt.plot(df.index, df['rolling_tx_count_7d'], label='7-Day Rolling Transaction Count', color='blue')\n",
    "plt.title('Rolling Count of Transactions Over 7 Days')\n",
    "plt.xlabel('Date')\n",
    "plt.ylabel('Transaction Count')\n",
    "plt.legend()\n",
    "plt.show()"
   ]
  },
  {
   "cell_type": "markdown",
   "metadata": {},
   "source": [
    "Rolling sum of transaction amounts over the past 30 days"
   ]
  },
  {
   "cell_type": "code",
   "execution_count": null,
   "metadata": {},
   "outputs": [],
   "source": [
    "# Calculate the rolling sum of transaction amounts over the past 30 days\n",
    "df['rolling_sum_30d'] = df['amount'].rolling(window='30D').sum()"
   ]
  },
  {
   "cell_type": "code",
   "execution_count": null,
   "metadata": {},
   "outputs": [],
   "source": [
    "\n",
    "# Print the first few rows to check the new column with the 30-day rolling sum of transaction amounts\n",
    "print(df[['amount', 'rolling_sum_30d']].head(10))"
   ]
  },
  {
   "cell_type": "code",
   "execution_count": null,
   "metadata": {},
   "outputs": [],
   "source": [
    "# Plot the rolling sum of transaction amounts\n",
    "plt.figure(figsize=(14, 7))\n",
    "plt.plot(df.index, df['rolling_sum_30d'], label='30-Day Rolling Sum of Transaction Amounts', color='green')\n",
    "plt.title('Rolling Sum of Transaction Amounts Over 30 Days')\n",
    "plt.xlabel('Date')\n",
    "plt.ylabel('Sum of Transaction Amounts')\n",
    "plt.legend()\n",
    "plt.show()"
   ]
  },
  {
   "cell_type": "code",
   "execution_count": null,
   "metadata": {},
   "outputs": [],
   "source": [
    "# Track the maximum or minimum transaction amounts over a specified time period to spot sudden spikes or drops in transaction values\n",
    "# Rolling maximum of the transaction amounts over the past 7 days\n",
    "df['rolling_max_7d'] = df['amount'].rolling(window='7D').max()\n",
    "\n",
    "# Rolling minimum of the transaction amounts over the past 7 days\n",
    "df['rolling_min_7d'] = df['amount'].rolling(window='7D').min()"
   ]
  },
  {
   "cell_type": "code",
   "execution_count": null,
   "metadata": {},
   "outputs": [],
   "source": [
    "# Set up the figure and axis\n",
    "plt.figure(figsize=(14, 7))\n",
    "plt.title('Rolling Maximum and Minimum of Transaction Amounts Over 7 Days')\n",
    "plt.xlabel('Date')\n",
    "plt.ylabel('Transaction Amount')\n",
    "\n",
    "# Plot the original transaction amounts\n",
    "plt.plot(df.index, df['rolling_avg_1d'], label='Average Daily Transaction Amounts', color='gray', alpha=0.5)\n",
    "\n",
    "# Plot the rolling maximum and minimum\n",
    "#plt.plot(df.index, df['rolling_max_7d'], label='7-Day Rolling Max', color='red')\n",
    "plt.plot(df.index, df['rolling_min_7d'], label='7-Day Rolling Min', color='blue')\n",
    "\n",
    "plt.legend()\n",
    "plt.show()"
   ]
  },
  {
   "cell_type": "markdown",
   "metadata": {},
   "source": [
    "Computing velocities by account and by date for 7 Days"
   ]
  },
  {
   "cell_type": "code",
   "execution_count": null,
   "metadata": {},
   "outputs": [],
   "source": [
    "# Compute the 7-day rolling average grouped by 'nameOrig'\n",
    "rolling_data = df.groupby('nameOrig')['amount'].rolling(window='7D').mean().reset_index()\n",
    "\n",
    "# Display the first few rows to understand what's in rolling_data\n",
    "print(rolling_data.head())"
   ]
  },
  {
   "cell_type": "code",
   "execution_count": null,
   "metadata": {},
   "outputs": [],
   "source": [
    "df.head()"
   ]
  },
  {
   "cell_type": "code",
   "execution_count": null,
   "metadata": {},
   "outputs": [],
   "source": [
    "# If 'date' was your DataFrame index, ensure it's included in the DataFrame before merging\n",
    "df.reset_index(inplace=True)  # This will make 'date' a column if it was the index\n",
    "\n",
    "# Merge the rolling average back to the original DataFrame\n",
    "df = df.merge(rolling_data, on=['nameOrig', 'date'], how='left', suffixes=('', '_rolling_avg_7d'))"
   ]
  },
  {
   "cell_type": "code",
   "execution_count": null,
   "metadata": {},
   "outputs": [],
   "source": [
    "plt.figure(figsize=(12, 6))\n",
    "plt.plot(df['date'], df['amount_rolling_avg_7d'], label='7-Day Rolling Average')\n",
    "plt.title('7-Day Rolling Average Transaction Amount by Account')\n",
    "plt.xlabel('Date')\n",
    "plt.ylabel('Amount')\n",
    "plt.legend()\n",
    "plt.show()"
   ]
  },
  {
   "cell_type": "markdown",
   "metadata": {},
   "source": [
    "Compute 30 Days rolling average grouped by 'nameOrig'"
   ]
  },
  {
   "cell_type": "code",
   "execution_count": null,
   "metadata": {},
   "outputs": [],
   "source": [
    "df.set_index('date', inplace=True)  # Set 'date' as the index"
   ]
  },
  {
   "cell_type": "code",
   "execution_count": null,
   "metadata": {},
   "outputs": [],
   "source": [
    "# Compute the 30-day rolling average grouped by 'nameOrig'\n",
    "rolling_data_30 = df.groupby('nameOrig')['amount'].rolling(window='30D').mean().reset_index()\n",
    "\n",
    "# Display the first few rows to understand what's in rolling_data_30\n",
    "print(rolling_data_30.head())"
   ]
  },
  {
   "cell_type": "code",
   "execution_count": null,
   "metadata": {},
   "outputs": [],
   "source": [
    "# Merge the rolling average back to the original DataFrame\n",
    "df = df.merge(rolling_data_30, on=['nameOrig', 'date'], how='left', suffixes=('', '_rolling_avg_30d'))"
   ]
  },
  {
   "cell_type": "code",
   "execution_count": null,
   "metadata": {},
   "outputs": [],
   "source": [
    "plt.figure(figsize=(12, 6))\n",
    "plt.plot(df['date'], df['amount_rolling_avg_30d'], label='30-Day Rolling Average')\n",
    "plt.title('30-Day Rolling Average Transaction Amount by Account')\n",
    "plt.xlabel('Date')\n",
    "plt.ylabel('Amount')\n",
    "plt.legend()\n",
    "plt.show()"
   ]
  },
  {
   "cell_type": "markdown",
   "metadata": {},
   "source": [
    "Compute 90 Days rolling average grouped by 'nameOrig'"
   ]
  },
  {
   "cell_type": "code",
   "execution_count": null,
   "metadata": {},
   "outputs": [],
   "source": [
    "df.set_index('date', inplace=True)  # Set 'date' as the index"
   ]
  },
  {
   "cell_type": "code",
   "execution_count": null,
   "metadata": {},
   "outputs": [],
   "source": [
    "# Compute the 90-day rolling average grouped by 'nameOrig'\n",
    "rolling_data_90 = df.groupby('nameOrig')['amount'].rolling(window='90D').mean().reset_index()\n",
    "\n",
    "# Display the first few rows to understand what's in rolling_data_30\n",
    "print(rolling_data_90.head())"
   ]
  },
  {
   "cell_type": "code",
   "execution_count": null,
   "metadata": {},
   "outputs": [],
   "source": [
    "# Merge the rolling average back to the original DataFrame\n",
    "df = df.merge(rolling_data_90, on=['nameOrig', 'date'], how='left', suffixes=('', '_rolling_avg_90d'))"
   ]
  },
  {
   "cell_type": "code",
   "execution_count": null,
   "metadata": {},
   "outputs": [],
   "source": [
    "plt.figure(figsize=(12, 6))\n",
    "plt.plot(df['date'], df['amount_rolling_avg_90d'], label='90-Day Rolling Average')\n",
    "plt.title('90-Day Rolling Average Transaction Amount by Account')\n",
    "plt.xlabel('Date')\n",
    "plt.ylabel('Amount')\n",
    "plt.legend()\n",
    "plt.show()"
   ]
  },
  {
   "cell_type": "code",
   "execution_count": null,
   "metadata": {},
   "outputs": [],
   "source": [
    "df.head()"
   ]
  },
  {
   "cell_type": "code",
   "execution_count": null,
   "metadata": {},
   "outputs": [],
   "source": []
  }
 ],
 "metadata": {
  "kernelspec": {
   "display_name": "base",
   "language": "python",
   "name": "python3"
  },
  "language_info": {
   "codemirror_mode": {
    "name": "ipython",
    "version": 3
   },
   "file_extension": ".py",
   "mimetype": "text/x-python",
   "name": "python",
   "nbconvert_exporter": "python",
   "pygments_lexer": "ipython3",
   "version": "3.11.5"
  }
 },
 "nbformat": 4,
 "nbformat_minor": 2
}
